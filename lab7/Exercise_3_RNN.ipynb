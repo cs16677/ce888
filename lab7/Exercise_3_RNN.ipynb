{
  "nbformat": 4,
  "nbformat_minor": 0,
  "metadata": {
    "colab": {
      "name": "RNN.ipynb",
      "provenance": []
    },
    "kernelspec": {
      "display_name": "Python 3",
      "language": "python",
      "name": "python3"
    },
    "language_info": {
      "codemirror_mode": {
        "name": "ipython",
        "version": 3
      },
      "file_extension": ".py",
      "mimetype": "text/x-python",
      "name": "python",
      "nbconvert_exporter": "python",
      "pygments_lexer": "ipython3",
      "version": "3.6.5"
    }
  },
  "cells": [
    {
      "cell_type": "code",
      "metadata": {
        "id": "2OEAdhW0qjg9",
        "colab_type": "code",
        "outputId": "76eedec0-917f-413e-922c-b8135cae5b9b",
        "colab": {
          "base_uri": "https://localhost:8080/",
          "height": 34
        }
      },
      "source": [
        "import keras\n",
        "keras.__version__"
      ],
      "execution_count": 7,
      "outputs": [
        {
          "output_type": "execute_result",
          "data": {
            "text/plain": [
              "'2.2.5'"
            ]
          },
          "metadata": {
            "tags": []
          },
          "execution_count": 7
        }
      ]
    },
    {
      "cell_type": "code",
      "metadata": {
        "id": "TYsNtFxgqjhC",
        "colab_type": "code",
        "outputId": "e8cb5069-4f8b-46e6-c345-264b3771c886",
        "colab": {
          "base_uri": "https://localhost:8080/",
          "height": 34
        }
      },
      "source": [
        "from keras.preprocessing.text import Tokenizer\n",
        "samples = ['The cat sat on the mat.', 'The dog ate my homework.']\n",
        "\n",
        "# We create a tokenizer, configured to only take into account the top-1000 most common words\n",
        "tokenizer = Tokenizer(num_words=1000)\n",
        "\n",
        "# This builds the word index\n",
        "tokenizer.fit_on_texts(samples)\n",
        "\n",
        "# This turns strings into lists of integer indices.\n",
        "sequences = tokenizer.texts_to_sequences(samples)\n",
        "\n",
        "# You could also directly get the one-hot binary representations.\n",
        "# Note that other vectorization modes than one-hot encoding are supported!\n",
        "one_hot_results = tokenizer.texts_to_matrix(samples, mode='binary')\n",
        "\n",
        "# This is how you can recover the word index that was computed\n",
        "word_index = tokenizer.word_index\n",
        "print('Found %s unique tokens.' % len(word_index))"
      ],
      "execution_count": 8,
      "outputs": [
        {
          "output_type": "stream",
          "text": [
            "Found 9 unique tokens.\n"
          ],
          "name": "stdout"
        }
      ]
    },
    {
      "cell_type": "code",
      "metadata": {
        "id": "_1bFuvqKqjhF",
        "colab_type": "code",
        "outputId": "d9c424f0-7266-4b3f-ff27-32df0e3c90b7",
        "colab": {
          "base_uri": "https://localhost:8080/",
          "height": 51
        }
      },
      "source": [
        "one_hot_results"
      ],
      "execution_count": 9,
      "outputs": [
        {
          "output_type": "execute_result",
          "data": {
            "text/plain": [
              "array([[0., 1., 1., ..., 0., 0., 0.],\n",
              "       [0., 1., 0., ..., 0., 0., 0.]])"
            ]
          },
          "metadata": {
            "tags": []
          },
          "execution_count": 9
        }
      ]
    },
    {
      "cell_type": "markdown",
      "metadata": {
        "id": "95o1mdJkqjhI",
        "colab_type": "text"
      },
      "source": [
        "Using word-embeddings "
      ]
    },
    {
      "cell_type": "code",
      "metadata": {
        "id": "DSAIqfdoqjhJ",
        "colab_type": "code",
        "outputId": "44c3527f-e354-4d01-8335-3c2513f3a4b2",
        "colab": {
          "base_uri": "https://localhost:8080/",
          "height": 119
        }
      },
      "source": [
        "from keras.datasets import imdb\n",
        "from keras.preprocessing import sequence\n",
        "\n",
        "max_features = 10000\n",
        "maxlen = 500\n",
        "batch_size = 32\n",
        "print('Loading data...')\n",
        "(input_train, y_train), (input_test, y_test) = imdb.load_data(num_words=max_features)\n",
        "print(len(input_train), 'train sequences')\n",
        "print(len(input_test), 'test sequences')\n",
        "print('Pad sequences (samples x time)')\n",
        "input_train = sequence.pad_sequences(input_train, maxlen=maxlen)\n",
        "input_test = sequence.pad_sequences(input_test, maxlen=maxlen)\n",
        "print('input_train shape:', input_train.shape)\n",
        "print('input_test shape:', input_test.shape)"
      ],
      "execution_count": 10,
      "outputs": [
        {
          "output_type": "stream",
          "text": [
            "Loading data...\n",
            "25000 train sequences\n",
            "25000 test sequences\n",
            "Pad sequences (samples x time)\n",
            "input_train shape: (25000, 500)\n",
            "input_test shape: (25000, 500)\n"
          ],
          "name": "stdout"
        }
      ]
    },
    {
      "cell_type": "markdown",
      "metadata": {
        "id": "5ssh97qDqjhM",
        "colab_type": "text"
      },
      "source": [
        "### Training the model with Embedding and SimpleRNN layers"
      ]
    },
    {
      "cell_type": "code",
      "metadata": {
        "id": "t_lIlBilqjhN",
        "colab_type": "code",
        "outputId": "55bfc4e6-2f1f-41ae-bf25-abbb6c311864",
        "colab": {
          "base_uri": "https://localhost:8080/",
          "height": 955
        }
      },
      "source": [
        "from keras.layers import Dense\n",
        "from keras.layers import Embedding, SimpleRNN\n",
        "\n",
        "model = keras.Sequential()\n",
        "model.add(Embedding(max_features, 32))\n",
        "model.add(SimpleRNN(32))\n",
        "model.add(Dense(1, activation='sigmoid'))\n",
        "model.summary()\n",
        "model.compile(optimizer='rmsprop', loss='binary_crossentropy', metrics=['acc'])\n",
        "history = model.fit(input_train, y_train, \n",
        "                    epochs=10,\n",
        "                    batch_size=128,\n",
        "                    validation_split=0.2)\n"
      ],
      "execution_count": 11,
      "outputs": [
        {
          "output_type": "stream",
          "text": [
            "20000/20000 [==============================] - 20s 1ms/step - loss: 0.6781 - acc: 0.5592 - val_loss: 0.6289 - val_acc: 0.6634\n",
            "Epoch 2/10\n",
            "20000/20000 [==============================] - 19s 965us/step - loss: 0.4529 - acc: 0.7993 - val_loss: 0.4239 - val_acc: 0.8142\n",
            "Epoch 3/10\n",
            "20000/20000 [==============================] - 19s 956us/step - loss: 0.3038 - acc: 0.8791 - val_loss: 0.4125 - val_acc: 0.8124\n",
            "Epoch 4/10\n",
            "20000/20000 [==============================] - 19s 954us/step - loss: 0.2105 - acc: 0.9198 - val_loss: 0.3913 - val_acc: 0.8334\n",
            "Epoch 5/10\n",
            "20000/20000 [==============================] - 19s 953us/step - loss: 0.1375 - acc: 0.9537 - val_loss: 0.4755 - val_acc: 0.7964\n",
            "Epoch 6/10\n",
            "20000/20000 [==============================] - 19s 957us/step - loss: 0.0903 - acc: 0.9715 - val_loss: 0.4000 - val_acc: 0.8560\n",
            "Epoch 7/10\n",
            "20000/20000 [==============================] - 19s 954us/step - loss: 0.0576 - acc: 0.9824 - val_loss: 0.5601 - val_acc: 0.8052\n",
            "Epoch 8/10\n",
            "20000/20000 [==============================] - 19s 948us/step - loss: 0.0317 - acc: 0.9914 - val_loss: 0.5605 - val_acc: 0.8106\n",
            "Epoch 9/10\n",
            "20000/20000 [==============================] - 20s 975us/step - loss: 0.0233 - acc: 0.9943 - val_loss: 0.6585 - val_acc: 0.7874\n",
            "Epoch 10/10\n",
            "20000/20000 [==============================] - 19s 956us/step - loss: 0.0140 - acc: 0.9968 - val_loss: 0.7070 - val_acc: 0.7854\n",
            "Model: \"sequential_2\"\n",
            "_________________________________________________________________\n",
            "Layer (type)                 Output Shape              Param #   \n",
            "=================================================================\n",
            "embedding_2 (Embedding)      (None, None, 32)          320000    \n",
            "_________________________________________________________________\n",
            "simple_rnn_2 (SimpleRNN)     (None, 32)                2080      \n",
            "_________________________________________________________________\n",
            "dense_2 (Dense)              (None, 1)                 33        \n",
            "=================================================================\n",
            "Total params: 322,113\n",
            "Trainable params: 322,113\n",
            "Non-trainable params: 0\n",
            "_________________________________________________________________\n",
            "Train on 20000 samples, validate on 5000 samples\n",
            "Epoch 1/10\n",
            "20000/20000 [==============================] - 20s 1ms/step - loss: 0.5393 - acc: 0.7197 - val_loss: 0.4594 - val_acc: 0.7984\n",
            "Epoch 2/10\n",
            "20000/20000 [==============================] - 20s 985us/step - loss: 0.3411 - acc: 0.8631 - val_loss: 0.3518 - val_acc: 0.8528\n",
            "Epoch 3/10\n",
            "20000/20000 [==============================] - 20s 995us/step - loss: 0.2662 - acc: 0.8975 - val_loss: 0.3531 - val_acc: 0.8638\n",
            "Epoch 4/10\n",
            "20000/20000 [==============================] - 20s 987us/step - loss: 0.2140 - acc: 0.9199 - val_loss: 0.3338 - val_acc: 0.8712\n",
            "Epoch 5/10\n",
            "20000/20000 [==============================] - 20s 1ms/step - loss: 0.1719 - acc: 0.9378 - val_loss: 0.3684 - val_acc: 0.8628\n",
            "Epoch 6/10\n",
            "20000/20000 [==============================] - 20s 1ms/step - loss: 0.1276 - acc: 0.9560 - val_loss: 0.4589 - val_acc: 0.8268\n",
            "Epoch 7/10\n",
            "20000/20000 [==============================] - 20s 993us/step - loss: 0.0904 - acc: 0.9700 - val_loss: 0.4056 - val_acc: 0.8720\n",
            "Epoch 8/10\n",
            "20000/20000 [==============================] - 20s 990us/step - loss: 0.0636 - acc: 0.9801 - val_loss: 0.4745 - val_acc: 0.8582\n",
            "Epoch 9/10\n",
            "20000/20000 [==============================] - 20s 995us/step - loss: 0.0439 - acc: 0.9861 - val_loss: 0.5247 - val_acc: 0.8276\n",
            "Epoch 10/10\n",
            "20000/20000 [==============================] - 20s 978us/step - loss: 0.0269 - acc: 0.9922 - val_loss: 0.6360 - val_acc: 0.8062\n"
          ],
          "name": "stdout"
        }
      ]
    },
    {
      "cell_type": "code",
      "metadata": {
        "id": "w03gEZ2RqjhQ",
        "colab_type": "code",
        "outputId": "f2a16acc-ac46-43aa-9e66-03697be26410",
        "colab": {
          "base_uri": "https://localhost:8080/",
          "height": 545
        }
      },
      "source": [
        "import matplotlib.pyplot as plt\n",
        "\n",
        "acc = history.history['acc']\n",
        "val_acc = history.history['val_acc']\n",
        "loss = history.history['loss']\n",
        "val_loss = history.history['val_loss']\n",
        "\n",
        "epochs = range(1, len(acc) + 1)\n",
        "\n",
        "plt.plot(epochs, acc, 'bo', label='Training acc')\n",
        "plt.plot(epochs, val_acc, 'b', label='Validation acc')\n",
        "plt.title('Training and validation accuracy')\n",
        "plt.legend()\n",
        "\n",
        "plt.figure()\n",
        "\n",
        "plt.plot(epochs, loss, 'bo', label='Training loss')\n",
        "plt.plot(epochs, val_loss, 'b', label='Validation loss')\n",
        "plt.title('Training and validation loss')\n",
        "plt.legend()\n",
        "\n",
        "plt.show()"
      ],
      "execution_count": 12,
      "outputs": [
        {
          "output_type": "display_data",
          "data": {
            "image/png": "[encoded data removed]",
            "text/plain": [
              "<Figure size 432x288 with 1 Axes>"
            ]
          },
          "metadata": {
            "tags": []
          }
        },
        {
          "output_type": "display_data",
          "data": {
            "image/png": "[encoded data removed]",
            "text/plain": [
              "<Figure size 432x288 with 1 Axes>"
            ]
          },
          "metadata": {
            "tags": []
          }
        }
      ]
    },
    {
      "cell_type": "markdown",
      "metadata": {
        "id": "mz8CfgKcqjhT",
        "colab_type": "text"
      },
      "source": [
        "### Training the model with Embedding and SimpleRNN layers"
      ]
    },
    {
      "cell_type": "code",
      "metadata": {
        "id": "U_wjH-KGqjhU",
        "colab_type": "code",
        "outputId": "16ecb8f4-6271-44d8-aade-763a3de4a4a4",
        "colab": {
          "base_uri": "https://localhost:8080/",
          "height": 394
        }
      },
      "source": [
        "from keras.layers import LSTM\n",
        "\n",
        "model = keras.Sequential()\n",
        "model.add(Embedding(max_features, 32))\n",
        "model.add(LSTM(32))\n",
        "model.add(Dense(1, activation='sigmoid'))\n",
        "model.compile(optimizer='rmsprop',\n",
        "loss='binary_crossentropy',\n",
        "metrics=['acc'])\n",
        "history = model.fit(input_train, y_train,\n",
        "                    epochs=10,\n",
        "                    batch_size=128,\n",
        "                    validation_split=0.2)"
      ],
      "execution_count": 14,
      "outputs": [
        {
          "output_type": "stream",
          "text": [
            "Train on 20000 samples, validate on 5000 samples\n",
            "Epoch 1/10\n",
            "20000/20000 [==============================] - 89s 4ms/step - loss: 0.5172 - acc: 0.7549 - val_loss: 0.4397 - val_acc: 0.8072\n",
            "Epoch 2/10\n",
            "20000/20000 [==============================] - 90s 4ms/step - loss: 0.2990 - acc: 0.8807 - val_loss: 0.3547 - val_acc: 0.8534\n",
            "Epoch 3/10\n",
            "20000/20000 [==============================] - 89s 4ms/step - loss: 0.2377 - acc: 0.9100 - val_loss: 0.3319 - val_acc: 0.8546\n",
            "Epoch 4/10\n",
            "20000/20000 [==============================] - 89s 4ms/step - loss: 0.1951 - acc: 0.9289 - val_loss: 0.3096 - val_acc: 0.8860\n",
            "Epoch 5/10\n",
            "20000/20000 [==============================] - 89s 4ms/step - loss: 0.1785 - acc: 0.9349 - val_loss: 0.2964 - val_acc: 0.8888\n",
            "Epoch 6/10\n",
            "20000/20000 [==============================] - 90s 4ms/step - loss: 0.1644 - acc: 0.9405 - val_loss: 0.3673 - val_acc: 0.8644\n",
            "Epoch 7/10\n",
            "20000/20000 [==============================] - 89s 4ms/step - loss: 0.1451 - acc: 0.9502 - val_loss: 0.3641 - val_acc: 0.8840\n",
            "Epoch 8/10\n",
            "20000/20000 [==============================] - 89s 4ms/step - loss: 0.1309 - acc: 0.9538 - val_loss: 0.3252 - val_acc: 0.8868\n",
            "Epoch 9/10\n",
            "20000/20000 [==============================] - 90s 4ms/step - loss: 0.1228 - acc: 0.9572 - val_loss: 0.3344 - val_acc: 0.8672\n",
            "Epoch 10/10\n",
            "20000/20000 [==============================] - 89s 4ms/step - loss: 0.1111 - acc: 0.9620 - val_loss: 0.3803 - val_acc: 0.8838\n"
          ],
          "name": "stdout"
        }
      ]
    },
    {
      "cell_type": "code",
      "metadata": {
        "id": "HU4eGq-DqjhX",
        "colab_type": "code",
        "outputId": "50ce5e4a-b412-4225-b7b7-05bf93c15aa1",
        "colab": {
          "base_uri": "https://localhost:8080/",
          "height": 545
        }
      },
      "source": [
        "import matplotlib.pyplot as plt\n",
        "\n",
        "acc = history.history['acc']\n",
        "val_acc = history.history['val_acc']\n",
        "loss = history.history['loss']\n",
        "val_loss = history.history['val_loss']\n",
        "\n",
        "epochs = range(1, len(acc) + 1)\n",
        "\n",
        "plt.plot(epochs, acc, 'bo', label='Training acc')\n",
        "plt.plot(epochs, val_acc, 'b', label='Validation acc')\n",
        "plt.title('Training and validation accuracy')\n",
        "plt.legend()\n",
        "\n",
        "plt.figure()\n",
        "\n",
        "plt.plot(epochs, loss, 'bo', label='Training loss')\n",
        "plt.plot(epochs, val_loss, 'b', label='Validation loss')\n",
        "plt.title('Training and validation loss')\n",
        "plt.legend()\n",
        "\n",
        "plt.show()"
      ],
      "execution_count": 15,
      "outputs": [
        {
          "output_type": "display_data",
          "data": {
            "image/png": "[encoded data removed]",
            "text/plain": [
              "<Figure size 432x288 with 1 Axes>"
            ]
          },
          "metadata": {
            "tags": []
          }
        },
        {
          "output_type": "display_data",
          "data": {
            "image/png": "[encoded data removed]",
            "text/plain": [
              "<Figure size 432x288 with 1 Axes>"
            ]
          },
          "metadata": {
            "tags": []
          }
        }
      ]
    },
    {
      "cell_type": "code",
      "metadata": {
        "id": "DzJsi0PNqjhZ",
        "colab_type": "code",
        "colab": {}
      },
      "source": [
        ""
      ],
      "execution_count": 0,
      "outputs": []
    }
  ]
}