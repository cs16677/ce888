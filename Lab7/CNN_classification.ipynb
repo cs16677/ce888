{
  "nbformat": 4,
  "nbformat_minor": 0,
  "metadata": {
    "colab": {
      "name": "CNN_classification.ipynb",
      "provenance": [],
      "collapsed_sections": [],
      "authorship_tag": "ABX9TyNBVPPAT5EFBVh2PyLlX/Iv",
      "include_colab_link": true
    },
    "kernelspec": {
      "name": "python3",
      "display_name": "Python 3"
    },
    "accelerator": "GPU"
  },
  "cells": [
    {
      "cell_type": "markdown",
      "metadata": {
        "id": "view-in-github",
        "colab_type": "text"
      },
      "source": [
        "<a href=\"https://colab.research.google.com/github/cs16677/ce888/blob/master/Lab7/CNN_classification.ipynb\" target=\"_parent\"><img src=\"https://colab.research.google.com/assets/colab-badge.svg\" alt=\"Open In Colab\"/></a>"
      ]
    },
    {
      "cell_type": "code",
      "metadata": {
        "id": "B6HKvB22cmad",
        "colab_type": "code",
        "outputId": "42725c81-dac2-48eb-a886-2ce7bee92a03",
        "colab": {
          "base_uri": "https://localhost:8080/",
          "height": 54
        }
      },
      "source": [
        "import os\n",
        "import numpy as np\n",
        "from zipfile import ZipFile\n",
        "import shutil\n",
        "\n",
        "os.environ['KAGGLE_USERNAME'] = \"harrystafford\"\n",
        "os.environ['KAGGLE_KEY'] = \"be089b0d39db7fc40103962881af28c2\"\n",
        "!kaggle datasets download -d prasunroy/natural-images"
      ],
      "execution_count": 0,
      "outputs": [
        {
          "output_type": "stream",
          "text": [
            "natural-images.zip: Skipping, found more recently modified local copy (use --force to force download)\n"
          ],
          "name": "stdout"
        }
      ]
    },
    {
      "cell_type": "code",
      "metadata": {
        "id": "Tv9DyQVBdDKP",
        "colab_type": "code",
        "colab": {}
      },
      "source": [
        "root_d = \"/content/\"\n",
        "base_d = os.path.join(root_d, \"natural_images/\")\n",
        "original_d = os.path.join(base_d, \"original/\")\n",
        "processed_d = os.path.join(base_d, \"processed/\")\n",
        "\n",
        "# remove cause we restarting\n",
        "if os.path.exists(base_d):\n",
        "  shutil.rmtree(base_d)\n",
        "\n",
        "# extract dataset\n",
        "with ZipFile(root_d + \"natural-images.zip\", 'r') as zip:\n",
        "  zip.extractall()\n",
        "\n",
        "# delete unnecessary duplicate\n",
        "shutil.rmtree(os.path.join(root_d, \"data/\"))\n",
        "\n",
        "# move all subfolders into /original\n",
        "os.mkdir(original_d)\n",
        "for f in os.listdir(base_d):\n",
        "  if f != \"original\":\n",
        "    shutil.move(os.path.join(base_d, f), os.path.join(original_d, f))\n",
        "\n",
        "# /processed will contain all the processed dataset\n",
        "os.mkdir(processed_d)"
      ],
      "execution_count": 0,
      "outputs": []
    },
    {
      "cell_type": "code",
      "metadata": {
        "id": "AwXImLRYfL_5",
        "colab_type": "code",
        "outputId": "877134bb-cbb9-40d1-d6ea-71439dd7249d",
        "colab": {
          "base_uri": "https://localhost:8080/",
          "height": 54
        }
      },
      "source": [
        "lengths = []\n",
        "\n",
        "for f in os.listdir(original_d):\n",
        "  filename = os.path.join(original_d, f)\n",
        "  path, dirs, files = next(os.walk(filename))\n",
        "  lengths = lengths + [(f, len(files))]\n",
        "print(\"lengths = \", lengths)"
      ],
      "execution_count": 0,
      "outputs": [
        {
          "output_type": "stream",
          "text": [
            "lengths =  [('flower', 843), ('person', 986), ('car', 968), ('fruit', 1000), ('cat', 885), ('motorbike', 788), ('airplane', 727), ('dog', 702)]\n"
          ],
          "name": "stdout"
        }
      ]
    },
    {
      "cell_type": "code",
      "metadata": {
        "id": "L09aI_YzhI-g",
        "colab_type": "code",
        "colab": {}
      },
      "source": [
        "# create test/train/val and other subfolders in processed\n",
        "train_d = os.path.join(processed_d, 'train')\n",
        "test_d = os.path.join(processed_d, 'test')\n",
        "val_d = os.path.join(processed_d, 'val')\n",
        "\n",
        "os.mkdir(train_d)\n",
        "os.mkdir(test_d)\n",
        "os.mkdir(val_d)\n",
        "\n",
        "def mkjoin(d, text):\n",
        "  os.mkdir(os.path.join(d, text))\n",
        "\n",
        "def mkdirs(text):\n",
        "  mkjoin(train_d, text)\n",
        "  mkjoin(test_d, text)\n",
        "  mkjoin(val_d, text)\n",
        "\n",
        "for l in lengths:\n",
        "  mkdirs(l[0])\n",
        "  "
      ],
      "execution_count": 0,
      "outputs": []
    },
    {
      "cell_type": "code",
      "metadata": {
        "id": "_jyKDnd8iy60",
        "colab_type": "code",
        "outputId": "f97eecd0-c19a-4c1e-f0bd-250ab81bb873",
        "colab": {
          "base_uri": "https://localhost:8080/",
          "height": 697
        }
      },
      "source": [
        "# split image sets into test/train/vel sets and copy to processed\n",
        "test_p = 0.1\n",
        "val_p = 0.1\n",
        "\n",
        "def copy_to(names, src_dir, dst_dir):\n",
        "  for fname in names:\n",
        "    src = os.path.join(src_dir, fname)\n",
        "    dst = os.path.join(dst_dir, fname)\n",
        "    shutil.copyfile(src, dst)\n",
        "\n",
        "def split(tup):\n",
        "  name = tup[0]\n",
        "  size = tup[1]\n",
        "\n",
        "  # the last index of each train and val set based on percentages\n",
        "  train_last = int(size*(1 - (test_p + val_p)))\n",
        "  val_last = int(train_last + size*val_p)\n",
        "\n",
        "  # split into 3 lists containing numerical interpretation\n",
        "  train_range = range(train_last)\n",
        "  val_range = range(train_last, val_last)\n",
        "  test_range = range(val_last, size)\n",
        "\n",
        "  # create lists with names from numerical lists \n",
        "  get_names = lambda n, arr: [n + '_{:04d}.jpg'.format(i) for i in arr]\n",
        "  train_n = get_names(name, train_range)\n",
        "  val_n = get_names(name, val_range)\n",
        "  test_n = get_names(name, test_range)\n",
        "\n",
        "  src_d = os.path.join(original_d, name)\n",
        "  get_dst = lambda n : os.path.join(processed_d, os.path.join(n, name))\n",
        "  \n",
        "  copy_to(train_n, src_d, get_dst('train'))\n",
        "  copy_to(val_n, src_d, get_dst('val'))\n",
        "  copy_to(test_n, src_d, get_dst('test'))\n",
        "\n",
        "  print(\"%s total: %d\" % (name, size))\n",
        "  str_f = lambda s, n: \"   %s images: %d\" % (s, len(n))\n",
        "  print(str_f('training', train_n))\n",
        "  print(str_f('validation', val_n))\n",
        "  print(str_f('testing', test_n))\n",
        "  print()\n",
        "\n",
        "for tup in lengths:\n",
        "  split(tup)"
      ],
      "execution_count": 0,
      "outputs": [
        {
          "output_type": "stream",
          "text": [
            "flower total: 843\n",
            "   training images: 674\n",
            "   validation images: 84\n",
            "   testing images: 85\n",
            "\n",
            "person total: 986\n",
            "   training images: 788\n",
            "   validation images: 98\n",
            "   testing images: 100\n",
            "\n",
            "car total: 968\n",
            "   training images: 774\n",
            "   validation images: 96\n",
            "   testing images: 98\n",
            "\n",
            "fruit total: 1000\n",
            "   training images: 800\n",
            "   validation images: 100\n",
            "   testing images: 100\n",
            "\n",
            "cat total: 885\n",
            "   training images: 708\n",
            "   validation images: 88\n",
            "   testing images: 89\n",
            "\n",
            "motorbike total: 788\n",
            "   training images: 630\n",
            "   validation images: 78\n",
            "   testing images: 80\n",
            "\n",
            "airplane total: 727\n",
            "   training images: 581\n",
            "   validation images: 72\n",
            "   testing images: 74\n",
            "\n",
            "dog total: 702\n",
            "   training images: 561\n",
            "   validation images: 70\n",
            "   testing images: 71\n",
            "\n"
          ],
          "name": "stdout"
        }
      ]
    },
    {
      "cell_type": "code",
      "metadata": {
        "id": "aKBoCvuDWdFX",
        "colab_type": "code",
        "outputId": "8a77b802-0d15-4ce0-8c42-1d4d643fd05a",
        "colab": {
          "base_uri": "https://localhost:8080/",
          "height": 527
        }
      },
      "source": [
        "from keras import layers, models, optimizers\n",
        "from keras.preprocessing.image import ImageDataGenerator\n",
        "\n",
        "model = models.Sequential()\n",
        "model.add(layers.Conv2D(32, (3, 3), activation='relu', input_shape=(150, 150, 3)))\n",
        "model.add(layers.MaxPooling2D((2, 2)))\n",
        "model.add(layers.Conv2D(64, (3, 3), activation='relu'))\n",
        "model.add(layers.MaxPooling2D((2, 2)))\n",
        "model.add(layers.Conv2D(128, (3, 3), activation='relu'))\n",
        "model.add(layers.MaxPooling2D((2, 2)))\n",
        "model.add(layers.Conv2D(128, (3, 3), activation='relu')) \n",
        "model.add(layers.MaxPooling2D((2, 2)))\n",
        "model.add(layers.Flatten())\n",
        "model.add(layers.Dense(512, activation='relu'))\n",
        "model.add(layers.Dense(1, activation='sigmoid'))\n",
        "model.summary()"
      ],
      "execution_count": 0,
      "outputs": [
        {
          "output_type": "stream",
          "text": [
            "Model: \"sequential_5\"\n",
            "_________________________________________________________________\n",
            "Layer (type)                 Output Shape              Param #   \n",
            "=================================================================\n",
            "conv2d_17 (Conv2D)           (None, 148, 148, 32)      896       \n",
            "_________________________________________________________________\n",
            "max_pooling2d_17 (MaxPooling (None, 74, 74, 32)        0         \n",
            "_________________________________________________________________\n",
            "conv2d_18 (Conv2D)           (None, 72, 72, 64)        18496     \n",
            "_________________________________________________________________\n",
            "max_pooling2d_18 (MaxPooling (None, 36, 36, 64)        0         \n",
            "_________________________________________________________________\n",
            "conv2d_19 (Conv2D)           (None, 34, 34, 128)       73856     \n",
            "_________________________________________________________________\n",
            "max_pooling2d_19 (MaxPooling (None, 17, 17, 128)       0         \n",
            "_________________________________________________________________\n",
            "conv2d_20 (Conv2D)           (None, 15, 15, 128)       147584    \n",
            "_________________________________________________________________\n",
            "max_pooling2d_20 (MaxPooling (None, 7, 7, 128)         0         \n",
            "_________________________________________________________________\n",
            "flatten_5 (Flatten)          (None, 6272)              0         \n",
            "_________________________________________________________________\n",
            "dense_9 (Dense)              (None, 512)               3211776   \n",
            "_________________________________________________________________\n",
            "dense_10 (Dense)             (None, 1)                 513       \n",
            "=================================================================\n",
            "Total params: 3,453,121\n",
            "Trainable params: 3,453,121\n",
            "Non-trainable params: 0\n",
            "_________________________________________________________________\n"
          ],
          "name": "stdout"
        }
      ]
    },
    {
      "cell_type": "code",
      "metadata": {
        "id": "RrH-JqU_0XD8",
        "colab_type": "code",
        "colab": {}
      },
      "source": [
        "model.compile(loss='binary_crossentropy', \n",
        "              optimizer=optimizers.RMSprop(lr=1e-4),\n",
        "              metrics=['acc'])"
      ],
      "execution_count": 0,
      "outputs": []
    },
    {
      "cell_type": "code",
      "metadata": {
        "id": "4erUQ_-N3yvk",
        "colab_type": "code",
        "outputId": "7f8ae597-3536-495a-8a90-e91479cd99bf",
        "colab": {
          "base_uri": "https://localhost:8080/",
          "height": 51
        }
      },
      "source": [
        "train_datagen = ImageDataGenerator(rescale=1./255)\n",
        "test_datagen = ImageDataGenerator(rescale=1./255)\n",
        "\n",
        "train_generator = train_datagen.flow_from_directory(train_d, target_size=(150, 150), batch_size=20, class_mode='binary')\n",
        "\n",
        "validation_generator = test_datagen.flow_from_directory(val_d, target_size=(150, 150), batch_size=20, class_mode='binary')"
      ],
      "execution_count": 0,
      "outputs": [
        {
          "output_type": "stream",
          "text": [
            "Found 5516 images belonging to 8 classes.\n",
            "Found 686 images belonging to 8 classes.\n"
          ],
          "name": "stdout"
        }
      ]
    },
    {
      "cell_type": "code",
      "metadata": {
        "id": "bFDFXbuv4H3t",
        "colab_type": "code",
        "outputId": "0de132c2-87c3-4a8f-c6fc-882305921fcd",
        "colab": {
          "base_uri": "https://localhost:8080/",
          "height": 1000
        }
      },
      "source": [
        "history = model.fit_generator(train_generator,\n",
        "                              steps_per_epoch=100,\n",
        "                              epochs=30,\n",
        "                              validation_data=validation_generator,\n",
        "                              validation_steps=10)"
      ],
      "execution_count": 0,
      "outputs": [
        {
          "output_type": "stream",
          "text": [
            "Epoch 1/30\n",
            "100/100 [==============================] - 5s 50ms/step - loss: -39.3248 - acc: 0.1386 - val_loss: -40.8922 - val_acc: 0.1750\n",
            "Epoch 2/30\n",
            "100/100 [==============================] - 4s 41ms/step - loss: -42.5901 - acc: 0.1345 - val_loss: -44.3995 - val_acc: 0.1200\n",
            "Epoch 3/30\n",
            "100/100 [==============================] - 4s 43ms/step - loss: -40.8922 - acc: 0.1430 - val_loss: -39.5371 - val_acc: 0.1450\n",
            "Epoch 4/30\n",
            "100/100 [==============================] - 4s 43ms/step - loss: -40.8364 - acc: 0.1490 - val_loss: -41.7416 - val_acc: 0.1129\n",
            "Epoch 5/30\n",
            "100/100 [==============================] - 4s 42ms/step - loss: -41.3883 - acc: 0.1310 - val_loss: -40.7328 - val_acc: 0.1450\n",
            "Epoch 6/30\n",
            "100/100 [==============================] - 4s 44ms/step - loss: -41.7850 - acc: 0.1480 - val_loss: -45.7546 - val_acc: 0.1350\n",
            "Epoch 7/30\n",
            "100/100 [==============================] - 4s 41ms/step - loss: -41.5379 - acc: 0.1375 - val_loss: -37.1989 - val_acc: 0.1452\n",
            "Epoch 8/30\n",
            "100/100 [==============================] - 4s 41ms/step - loss: -41.2908 - acc: 0.1465 - val_loss: -40.4139 - val_acc: 0.1450\n",
            "Epoch 9/30\n",
            "100/100 [==============================] - 4s 43ms/step - loss: -42.6896 - acc: 0.1310 - val_loss: -41.4502 - val_acc: 0.1350\n",
            "Epoch 10/30\n",
            "100/100 [==============================] - 4s 43ms/step - loss: -40.5574 - acc: 0.1510 - val_loss: -40.6531 - val_acc: 0.1400\n",
            "Epoch 11/30\n",
            "100/100 [==============================] - 4s 41ms/step - loss: -41.2850 - acc: 0.1319 - val_loss: -44.6558 - val_acc: 0.1559\n",
            "Epoch 12/30\n",
            "100/100 [==============================] - 4s 41ms/step - loss: -43.3553 - acc: 0.1260 - val_loss: -42.8053 - val_acc: 0.1100\n",
            "Epoch 13/30\n",
            "100/100 [==============================] - 4s 41ms/step - loss: -41.0734 - acc: 0.1544 - val_loss: -41.2111 - val_acc: 0.1350\n",
            "Epoch 14/30\n",
            "100/100 [==============================] - 4s 42ms/step - loss: -40.2705 - acc: 0.1395 - val_loss: -39.4274 - val_acc: 0.1613\n",
            "Epoch 15/30\n",
            "100/100 [==============================] - 4s 42ms/step - loss: -41.5299 - acc: 0.1520 - val_loss: -39.4574 - val_acc: 0.1050\n",
            "Epoch 16/30\n",
            "100/100 [==============================] - 4s 41ms/step - loss: -40.2747 - acc: 0.1396 - val_loss: -44.3995 - val_acc: 0.1750\n",
            "Epoch 17/30\n",
            "100/100 [==============================] - 4s 43ms/step - loss: -42.1198 - acc: 0.1325 - val_loss: -41.6096 - val_acc: 0.1300\n",
            "Epoch 18/30\n",
            "100/100 [==============================] - 4s 43ms/step - loss: -42.2633 - acc: 0.1385 - val_loss: -42.5987 - val_acc: 0.1452\n",
            "Epoch 19/30\n",
            "100/100 [==============================] - 4s 40ms/step - loss: -41.5937 - acc: 0.1395 - val_loss: -42.4067 - val_acc: 0.1300\n",
            "Epoch 20/30\n",
            "100/100 [==============================] - 4s 45ms/step - loss: -40.0651 - acc: 0.1474 - val_loss: -38.3414 - val_acc: 0.1600\n",
            "Epoch 21/30\n",
            "100/100 [==============================] - 4s 42ms/step - loss: -41.6096 - acc: 0.1385 - val_loss: -41.8273 - val_acc: 0.1344\n",
            "Epoch 22/30\n",
            "100/100 [==============================] - 4s 41ms/step - loss: -42.1198 - acc: 0.1375 - val_loss: -40.0154 - val_acc: 0.1650\n",
            "Epoch 23/30\n",
            "100/100 [==============================] - 4s 43ms/step - loss: -41.4084 - acc: 0.1409 - val_loss: -40.8125 - val_acc: 0.1350\n",
            "Epoch 24/30\n",
            "100/100 [==============================] - 4s 42ms/step - loss: -41.6654 - acc: 0.1385 - val_loss: -43.4430 - val_acc: 0.1200\n",
            "Epoch 25/30\n",
            "100/100 [==============================] - 4s 43ms/step - loss: -41.9763 - acc: 0.1345 - val_loss: -40.7131 - val_acc: 0.1505\n",
            "Epoch 26/30\n",
            "100/100 [==============================] - 4s 42ms/step - loss: -40.8004 - acc: 0.1429 - val_loss: -45.9141 - val_acc: 0.1100\n",
            "Epoch 27/30\n",
            "100/100 [==============================] - 4s 40ms/step - loss: -40.4538 - acc: 0.1540 - val_loss: -40.6531 - val_acc: 0.1450\n",
            "Epoch 28/30\n",
            "100/100 [==============================] - 4s 42ms/step - loss: -42.1437 - acc: 0.1355 - val_loss: -38.7417 - val_acc: 0.1559\n",
            "Epoch 29/30\n",
            "100/100 [==============================] - 4s 43ms/step - loss: -41.6575 - acc: 0.1370 - val_loss: -38.3414 - val_acc: 0.1200\n",
            "Epoch 30/30\n",
            "100/100 [==============================] - 4s 42ms/step - loss: -42.4307 - acc: 0.1330 - val_loss: -45.2764 - val_acc: 0.1450\n"
          ],
          "name": "stdout"
        }
      ]
    },
    {
      "cell_type": "code",
      "metadata": {
        "id": "lRZzi5RW5GQE",
        "colab_type": "code",
        "outputId": "986bc5f3-1999-40f0-f095-84e8f2b61402",
        "colab": {
          "base_uri": "https://localhost:8080/",
          "height": 545
        }
      },
      "source": [
        "model.save('class.h5')\n",
        "\n",
        "import matplotlib.pyplot as plt\n",
        "\n",
        "acc = history.history['acc']\n",
        "val_acc = history.history['val_acc']\n",
        "loss = history.history['loss']\n",
        "val_loss = history.history['val_loss']\n",
        "\n",
        "epochs = range(1, len(acc) + 1)\n",
        "\n",
        "plt.plot(epochs, acc, 'bo', label='Training acc')\n",
        "plt.plot(epochs, val_acc, 'b', label='Validation acc')\n",
        "plt.title('Training and validation accuracy')\n",
        "plt.legend()\n",
        "\n",
        "plt.figure()\n",
        "\n",
        "plt.plot(epochs, loss, 'bo', label='Training loss')\n",
        "plt.plot(epochs, val_loss, 'b', label='Validation loss')\n",
        "plt.title('Training and validation loss')\n",
        "plt.legend()\n",
        "\n",
        "plt.show()"
      ],
      "execution_count": 0,
      "outputs": [
        {
          "output_type": "display_data",
          "data": {
            "image/png": "[encoded data removed]",
            "text/plain": [
              "<Figure size 432x288 with 1 Axes>"
            ]
          },
          "metadata": {
            "tags": []
          }
        },
        {
          "output_type": "display_data",
          "data": {
            "image/png": "[encoded data removed]",
            "text/plain": [
              "<Figure size 432x288 with 1 Axes>"
            ]
          },
          "metadata": {
            "tags": []
          }
        }
      ]
    }
  ]
}