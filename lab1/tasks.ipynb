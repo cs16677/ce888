{
  "nbformat": 4,
  "nbformat_minor": 0,
  "metadata": {
    "colab": {
      "name": "Untitled0.ipynb",
      "provenance": [],
      "authorship_tag": "ABX9TyNp28CNyYcCK/1q0TPTwwAd",
      "include_colab_link": true
    },
    "kernelspec": {
      "name": "python3",
      "display_name": "Python 3"
    }
  },
  "cells": [
    {
      "cell_type": "markdown",
      "metadata": {
        "id": "view-in-github",
        "colab_type": "text"
      },
      "source": [
        "<a href=\"https://colab.research.google.com/github/cs16677/ce888/blob/master/lab1/tasks.ipynb\" target=\"_parent\"><img src=\"https://colab.research.google.com/assets/colab-badge.svg\" alt=\"Open In Colab\"/></a>"
      ]
    },
    {
      "cell_type": "markdown",
      "metadata": {
        "id": "o9BHWYwV06cm",
        "colab_type": "text"
      },
      "source": [
        "##1."
      ]
    },
    {
      "cell_type": "code",
      "metadata": {
        "id": "ZtvneJDa01eG",
        "colab_type": "code",
        "outputId": "7ddb1ffc-2712-44a8-edee-40a59567adb3",
        "colab": {
          "base_uri": "https://localhost:8080/",
          "height": 85
        }
      },
      "source": [
        "import numpy as np\n",
        "\n",
        "array = np.random.randint(0, 50, (4,2))\n",
        "print(array)"
      ],
      "execution_count": 34,
      "outputs": [
        {
          "output_type": "stream",
          "text": [
            "[[16 15]\n",
            " [47 10]\n",
            " [16 30]\n",
            " [ 6 23]]\n"
          ],
          "name": "stdout"
        }
      ]
    },
    {
      "cell_type": "markdown",
      "metadata": {
        "id": "jQLMjcaL4c9h",
        "colab_type": "text"
      },
      "source": [
        "##2."
      ]
    },
    {
      "cell_type": "code",
      "metadata": {
        "id": "-aVuoT6a4e0I",
        "colab_type": "code",
        "colab": {
          "base_uri": "https://localhost:8080/",
          "height": 68
        },
        "outputId": "6533b5a4-2832-4d25-c26a-c98c5e02f521"
      },
      "source": [
        "array = np.random.randint(0, 101, 10)\n",
        "print(\"Unsorted: \", array)\n",
        "print(\"Sorted Ascending: \", np.sort(array))\n",
        "print(\"Sorted Descending: \", np.sort(array)[::-1])"
      ],
      "execution_count": 10,
      "outputs": [
        {
          "output_type": "stream",
          "text": [
            "Unsorted:  [45 95 12 77 39 10 45  8  3 97]\n",
            "Sorted Ascending:  [ 3  8 10 12 39 45 45 77 95 97]\n",
            "Sorted Descending:  [97 95 77 45 45 39 12 10  8  3]\n"
          ],
          "name": "stdout"
        }
      ]
    },
    {
      "cell_type": "markdown",
      "metadata": {
        "id": "XXbpB0k46gpw",
        "colab_type": "text"
      },
      "source": [
        "##3."
      ]
    },
    {
      "cell_type": "code",
      "metadata": {
        "id": "8xW0XxxZ6h5u",
        "colab_type": "code",
        "colab": {
          "base_uri": "https://localhost:8080/",
          "height": 68
        },
        "outputId": "26a7c8b5-69db-46cc-a603-e8801550cc9f"
      },
      "source": [
        "arr = [1,2,3,4,5,6,7,8,9]\n",
        "print(np.reshape(arr, (3,3)))"
      ],
      "execution_count": 39,
      "outputs": [
        {
          "output_type": "stream",
          "text": [
            "[[1 2 3]\n",
            " [4 5 6]\n",
            " [7 8 9]]\n"
          ],
          "name": "stdout"
        }
      ]
    },
    {
      "cell_type": "markdown",
      "metadata": {
        "id": "aej7GWlH8gfD",
        "colab_type": "text"
      },
      "source": [
        "##4."
      ]
    },
    {
      "cell_type": "code",
      "metadata": {
        "id": "OzyysEY_8hoU",
        "colab_type": "code",
        "colab": {
          "base_uri": "https://localhost:8080/",
          "height": 119
        },
        "outputId": "acbe86df-1504-43a6-b65c-3b9915986b38"
      },
      "source": [
        "x1 = np.array([[1,2],[3,4]])\n",
        "x2 = np.array([[1,2],[3,4]])\n",
        "print(\"Rows: \", np.concatenate((x1, x2)))\n",
        "print(\"Columns: \", np.concatenate((x1, x2), axis=1))"
      ],
      "execution_count": 37,
      "outputs": [
        {
          "output_type": "stream",
          "text": [
            "Rows:  [[1 2]\n",
            " [3 4]\n",
            " [1 2]\n",
            " [3 4]]\n",
            "Columns:  [[1 2 1 2]\n",
            " [3 4 3 4]]\n"
          ],
          "name": "stdout"
        }
      ]
    },
    {
      "cell_type": "markdown",
      "metadata": {
        "id": "z2DzgvDMAveA",
        "colab_type": "text"
      },
      "source": [
        "##5."
      ]
    },
    {
      "cell_type": "code",
      "metadata": {
        "id": "xUJ-dznHAws2",
        "colab_type": "code",
        "colab": {
          "base_uri": "https://localhost:8080/",
          "height": 34
        },
        "outputId": "8ce55074-6303-4e7c-c979-f1f29089ff7b"
      },
      "source": [
        "arr1 = np.array([1,4,5,7,8,11,13,16])\n",
        "arr2 = np.array([2,3,5,11,15,16,27,31])\n",
        "\n",
        "print(np.intersect1d(arr1, arr2))"
      ],
      "execution_count": 38,
      "outputs": [
        {
          "output_type": "stream",
          "text": [
            "[ 5 11 16]\n"
          ],
          "name": "stdout"
        }
      ]
    },
    {
      "cell_type": "markdown",
      "metadata": {
        "id": "N4TDLbq_CJsm",
        "colab_type": "text"
      },
      "source": [
        "##6."
      ]
    },
    {
      "cell_type": "code",
      "metadata": {
        "id": "cwLQa7_yCKyV",
        "colab_type": "code",
        "colab": {
          "base_uri": "https://localhost:8080/",
          "height": 85
        },
        "outputId": "30c7ea09-6245-4f84-871b-2f4bd8a0eacd"
      },
      "source": [
        "arr = np.array([[1,2,3,3,4], \n",
        "               [5,7,3769,4578,5], \n",
        "               [3,49,26,7856,45], \n",
        "               [564,32,4876,2,786], \n",
        "               [9,40,46,46,786]])\n",
        "print(\"max(Columns):\",np.amax(arr, axis=0))\n",
        "print(\"min(Columns):\",np.amin(arr, axis=0))\n",
        "print(\"max(Rows):\",np.amax(arr, axis=1))\n",
        "print(\"min(Rows):\",np.amin(arr, axis=1))"
      ],
      "execution_count": 54,
      "outputs": [
        {
          "output_type": "stream",
          "text": [
            "max(Columns): [ 564   49 4876 7856  786]\n",
            "min(Columns): [1 2 3 2 4]\n",
            "max(Rows): [   4 4578 7856 4876  786]\n",
            "min(Rows): [1 5 3 2 9]\n"
          ],
          "name": "stdout"
        }
      ]
    },
    {
      "cell_type": "markdown",
      "metadata": {
        "id": "FxLwi7ntF9uH",
        "colab_type": "text"
      },
      "source": [
        "##7."
      ]
    },
    {
      "cell_type": "code",
      "metadata": {
        "id": "vbENKrzCF-yN",
        "colab_type": "code",
        "colab": {
          "base_uri": "https://localhost:8080/",
          "height": 68
        },
        "outputId": "b96ff809-5b3b-41b0-948f-247dabf9153f"
      },
      "source": [
        "arr = np.random.randint(0, 200, 100)\n",
        "print(\"Mean:\", np.mean(arr))\n",
        "print(\"Median:\", np.median(arr))\n",
        "print(\"Standard Deviation:\", np.std(arr))"
      ],
      "execution_count": 56,
      "outputs": [
        {
          "output_type": "stream",
          "text": [
            "Mean: 91.5\n",
            "Median: 88.0\n",
            "Standard Deviation: 53.743371684329595\n"
          ],
          "name": "stdout"
        }
      ]
    },
    {
      "cell_type": "markdown",
      "metadata": {
        "id": "uIdJbHZZGuww",
        "colab_type": "text"
      },
      "source": [
        "##8."
      ]
    },
    {
      "cell_type": "code",
      "metadata": {
        "id": "f1sFSQkqGv5w",
        "colab_type": "code",
        "colab": {
          "base_uri": "https://localhost:8080/",
          "height": 102
        },
        "outputId": "797e5c39-20b4-46b6-e7d7-77a37997ad45"
      },
      "source": [
        "import sklearn.preprocessing as pp\n",
        "\n",
        "arr = np.random.randint(0, 100, (5,5))\n",
        "print(pp.normalize(arr))"
      ],
      "execution_count": 62,
      "outputs": [
        {
          "output_type": "stream",
          "text": [
            "[[0.09723694 0.51859703 0.24309236 0.59152473 0.55911242]\n",
            " [0.43614383 0.46083122 0.65010118 0.41145644 0.07406216]\n",
            " [0.48307795 0.55299713 0.47036538 0.48943424 0.00635629]\n",
            " [0.84055407 0.11886623 0.34810825 0.38207003 0.11037579]\n",
            " [0.30975358 0.52586072 0.57628572 0.44662144 0.30975358]]\n"
          ],
          "name": "stdout"
        }
      ]
    },
    {
      "cell_type": "markdown",
      "metadata": {
        "id": "3wq5dnTvIXRk",
        "colab_type": "text"
      },
      "source": [
        "##9."
      ]
    },
    {
      "cell_type": "code",
      "metadata": {
        "id": "MagoZCq3IYYT",
        "colab_type": "code",
        "colab": {
          "base_uri": "https://localhost:8080/",
          "height": 34
        },
        "outputId": "73d45f2e-4204-48ab-8331-4501dd13885b"
      },
      "source": [
        "arr3d = np.random.randint(0, 100, (4,4,3))\n",
        "arr2d = np.random.randint(0, 100, (4,4))\n",
        "print(np.tensordot(arr3d, arr2d, axes=([0,1], [0,1])))"
      ],
      "execution_count": 69,
      "outputs": [
        {
          "output_type": "stream",
          "text": [
            "[24279 29361 33998]\n"
          ],
          "name": "stdout"
        }
      ]
    }
  ]
}