{
  "nbformat": 4,
  "nbformat_minor": 0,
  "metadata": {
    "colab": {
      "name": "Untitled0.ipynb",
      "provenance": [],
      "authorship_tag": "ABX9TyO6KrPXbX/OKekMfCwxDV2k",
      "include_colab_link": true
    },
    "kernelspec": {
      "name": "python3",
      "display_name": "Python 3"
    }
  },
  "cells": [
    {
      "cell_type": "markdown",
      "metadata": {
        "id": "view-in-github",
        "colab_type": "text"
      },
      "source": [
        "<a href=\"https://colab.research.google.com/github/cs16677/ce888/blob/master/lab1/tasks.ipynb\" target=\"_parent\"><img src=\"https://colab.research.google.com/assets/colab-badge.svg\" alt=\"Open In Colab\"/></a>"
      ]
    },
    {
      "cell_type": "markdown",
      "metadata": {
        "id": "o9BHWYwV06cm",
        "colab_type": "text"
      },
      "source": [
        "##1."
      ]
    },
    {
      "cell_type": "code",
      "metadata": {
        "id": "ZtvneJDa01eG",
        "colab_type": "code",
        "colab": {
          "base_uri": "https://localhost:8080/",
          "height": 85
        },
        "outputId": "313197f8-0b6a-47ac-9709-1a26a7f5100d"
      },
      "source": [
        "import numpy as np\n",
        "\n",
        "array = np.random.randint(0, 50, (4,2))\n",
        "print(array)"
      ],
      "execution_count": 14,
      "outputs": [
        {
          "output_type": "stream",
          "text": [
            "[[17 26]\n",
            " [ 8  1]\n",
            " [32 42]\n",
            " [22 30]]\n"
          ],
          "name": "stdout"
        }
      ]
    }
  ]
}