{
  "nbformat": 4,
  "nbformat_minor": 0,
  "metadata": {
    "colab": {
      "name": "Untitled5.ipynb",
      "provenance": [],
      "authorship_tag": "ABX9TyO39PeX6V3dio46Lzf+fgE2",
      "include_colab_link": true
    },
    "kernelspec": {
      "name": "python3",
      "display_name": "Python 3"
    }
  },
  "cells": [
    {
      "cell_type": "markdown",
      "metadata": {
        "id": "view-in-github",
        "colab_type": "text"
      },
      "source": [
        "<a href=\"https://colab.research.google.com/github/cs16677/ce888/blob/master/lab4/bank_classification.ipynb\" target=\"_parent\"><img src=\"https://colab.research.google.com/assets/colab-badge.svg\" alt=\"Open In Colab\"/></a>"
      ]
    },
    {
      "cell_type": "code",
      "metadata": {
        "id": "hS3FEl1c5WZS",
        "colab_type": "code",
        "colab": {
          "base_uri": "https://localhost:8080/",
          "height": 275
        },
        "outputId": "86e6bbc1-b239-40a3-94be-9fcab5801646"
      },
      "source": [
        "import pandas as pd\n",
        "\n",
        "data = pd.read_csv(\"bank-additional-full.csv\")\n",
        "\n",
        "print(data)"
      ],
      "execution_count": 2,
      "outputs": [
        {
          "output_type": "stream",
          "text": [
            "      age;\"job\";\"marital\";\"education\";\"default\";\"housing\";\"loan\";\"contact\";\"month\";\"day_of_week\";\"duration\";\"campaign\";\"pdays\";\"previous\";\"poutcome\";\"emp.var.rate\";\"cons.price.idx\";\"cons.conf.idx\";\"euribor3m\";\"nr.employed\";\"y\"\n",
            "0      56;\"housemaid\";\"married\";\"basic.4y\";\"no\";\"no\";...                                                                                                                                                                          \n",
            "1      57;\"services\";\"married\";\"high.school\";\"unknown...                                                                                                                                                                          \n",
            "2      37;\"services\";\"married\";\"high.school\";\"no\";\"ye...                                                                                                                                                                          \n",
            "3      40;\"admin.\";\"married\";\"basic.6y\";\"no\";\"no\";\"no...                                                                                                                                                                          \n",
            "4      56;\"services\";\"married\";\"high.school\";\"no\";\"no...                                                                                                                                                                          \n",
            "...                                                  ...                                                                                                                                                                          \n",
            "41183  73;\"retired\";\"married\";\"professional.course\";\"...                                                                                                                                                                          \n",
            "41184  46;\"blue-collar\";\"married\";\"professional.cours...                                                                                                                                                                          \n",
            "41185  56;\"retired\";\"married\";\"university.degree\";\"no...                                                                                                                                                                          \n",
            "41186  44;\"technician\";\"married\";\"professional.course...                                                                                                                                                                          \n",
            "41187  74;\"retired\";\"married\";\"professional.course\";\"...                                                                                                                                                                          \n",
            "\n",
            "[41188 rows x 1 columns]\n"
          ],
          "name": "stdout"
        }
      ]
    }
  ]
}